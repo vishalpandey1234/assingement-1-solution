{
 "cells": [
  {
   "cell_type": "markdown",
   "id": "1282571a-7ea2-4de1-a4cb-2290d35b7719",
   "metadata": {},
   "source": [
    " # 1. In the below elements which of them are values or an expression? eg:- values can be integer or string and expressions will be mathematical operators."
   ]
  },
  {
   "cell_type": "code",
   "execution_count": null,
   "id": "7f9c326d-a12e-41d8-a6df-c805ff87a01e",
   "metadata": {},
   "outputs": [],
   "source": [
    "* = it is a expresion because it is multiplication opreater in math  \n",
    "'hello' = it is a value in quotes known as string\n",
    "-87.8 = it is a value because it is a float  \n",
    "/ = it is a expression because it is divison operater in math\n",
    "+ = it is a expression because it is addition operater in math \n",
    "6 = it is a value because it is int "
   ]
  },
  {
   "cell_type": "markdown",
   "id": "19ed9049-05b7-4727-9b91-c38a1ab80003",
   "metadata": {},
   "source": [
    "# 2. What is the difference between string and variable?"
   ]
  },
  {
   "cell_type": "code",
   "execution_count": null,
   "id": "38af769c-ca62-42ea-801f-5c81c1784c2f",
   "metadata": {},
   "outputs": [],
   "source": [
    "string = it is value repersenting text \n",
    "ex :- \"vishal\" \n",
    "variable = it is contariner which store value \n",
    "ex :- name = \"vishal\""
   ]
  },
  {
   "cell_type": "markdown",
   "id": "abb9b842-2666-4825-91f7-56cf088065ad",
   "metadata": {},
   "source": [
    "# 3. Describe three different data types."
   ]
  },
  {
   "cell_type": "code",
   "execution_count": null,
   "id": "b66ebc9c-32bd-4ee5-acce-b1e070032062",
   "metadata": {},
   "outputs": [],
   "source": [
    "int = it is datatype shows only whole number without decimal\n",
    "ex:- 2,3,4 \n",
    "float = it is datatype shows only whole number with decimal \n",
    "ex:- 3.14,2.56,5.16\n",
    "dict = it is a datatype whic shows key value in pairs \n",
    "ex:- {\"name\":\"vishal\",\"age\" : 19}"
   ]
  },
  {
   "cell_type": "markdown",
   "id": "b8676d33-a253-43d3-85fb-0a52edb4cf51",
   "metadata": {},
   "source": [
    "# 4. What is an expression made up of? What do all expressions do?"
   ]
  },
  {
   "cell_type": "code",
   "execution_count": null,
   "id": "39604740-9456-4e0c-a1a7-0702a72fcc81",
   "metadata": {},
   "outputs": [],
   "source": [
    "An expression is made up of values, variables, operators, and sometimes function calls."
   ]
  },
  {
   "cell_type": "markdown",
   "id": "c77e4979-bb3d-497b-88c3-7c5cc76d0ca1",
   "metadata": {},
   "source": [
    "# 5. This assignment statements, like spam = 10. What is the difference between an expression and a statement?"
   ]
  },
  {
   "cell_type": "code",
   "execution_count": null,
   "id": "e546e43f-5d27-4d82-9084-7516c05b4efa",
   "metadata": {},
   "outputs": [],
   "source": [
    "spam = 10 is statement and 10 is a expression in this statement"
   ]
  },
  {
   "cell_type": "markdown",
   "id": "e1160479-1fc4-4c98-9887-11b19c99bc15",
   "metadata": {},
   "source": [
    "# 6. After running the following code, what does the variable bacon contain ?"
   ]
  },
  {
   "cell_type": "code",
   "execution_count": 8,
   "id": "913675da-a500-4d58-abde-f934d045944e",
   "metadata": {},
   "outputs": [
    {
     "data": {
      "text/plain": [
       "23"
      ]
     },
     "execution_count": 8,
     "metadata": {},
     "output_type": "execute_result"
    }
   ],
   "source": [
    "baccon = 22\n",
    "baccon + 1\n"
   ]
  },
  {
   "cell_type": "markdown",
   "id": "34e5d0ea-e950-43d6-a155-73e64b3ddef3",
   "metadata": {},
   "source": [
    "# 7. What should the values of the following two terms be?"
   ]
  },
  {
   "cell_type": "code",
   "execution_count": 11,
   "id": "bda5f2af-a460-4ff0-9408-958f00df584a",
   "metadata": {},
   "outputs": [
    {
     "data": {
      "text/plain": [
       "'spamspamspam'"
      ]
     },
     "execution_count": 11,
     "metadata": {},
     "output_type": "execute_result"
    }
   ],
   "source": [
    "'spam' + 'spamspam'\n",
    "'spam' * 3"
   ]
  },
  {
   "cell_type": "markdown",
   "id": "be775853-a19a-448b-8dc6-de15efe9a774",
   "metadata": {},
   "source": [
    "# 8. Why is eggs a valid variable name while 100 is invalid?"
   ]
  },
  {
   "cell_type": "code",
   "execution_count": null,
   "id": "c590238f-fbd0-48d9-bdf8-09d7cc8d0507",
   "metadata": {},
   "outputs": [],
   "source": [
    "eggs is vaild because in python there are some naming rule in which we cannot take int a variable"
   ]
  },
  {
   "cell_type": "markdown",
   "id": "8a7c987b-62a0-4693-b535-2eaa189fdf27",
   "metadata": {},
   "source": [
    "# 9. What three functions can be used to get the integer, floating-point number, or string version of a value?"
   ]
  },
  {
   "cell_type": "code",
   "execution_count": 10,
   "id": "7ff5ff41-fceb-40a3-afc6-30f7d95bafdb",
   "metadata": {},
   "outputs": [
    {
     "data": {
      "text/plain": [
       "89"
      ]
     },
     "execution_count": 10,
     "metadata": {},
     "output_type": "execute_result"
    }
   ],
   "source": [
    "int(\"89\")"
   ]
  },
  {
   "cell_type": "code",
   "execution_count": 19,
   "id": "5a166d2d-23d4-41b6-ae26-3c24620b7011",
   "metadata": {},
   "outputs": [
    {
     "data": {
      "text/plain": [
       "222.0"
      ]
     },
     "execution_count": 19,
     "metadata": {},
     "output_type": "execute_result"
    }
   ],
   "source": [
    "float(222)"
   ]
  },
  {
   "cell_type": "code",
   "execution_count": 15,
   "id": "fda12038-2936-42da-9ea4-e33aaf88d83d",
   "metadata": {},
   "outputs": [
    {
     "data": {
      "text/plain": [
       "'1000'"
      ]
     },
     "execution_count": 15,
     "metadata": {},
     "output_type": "execute_result"
    }
   ],
   "source": [
    "str(1000)"
   ]
  },
  {
   "cell_type": "markdown",
   "id": "022633d7-1711-4b43-bb96-06c7095992a5",
   "metadata": {},
   "source": [
    "# 10. Why does this expression cause an error? How can you fix it? &#39;I have eaten &#39; + 99 + &#39; burritos.&#39;"
   ]
  },
  {
   "cell_type": "code",
   "execution_count": null,
   "id": "4019561e-9fed-4d93-bbab-b974a06d81a1",
   "metadata": {},
   "outputs": [],
   "source": [
    "this is because your adding int in string in python we cannot add different datatype it is strongly typed launaguge"
   ]
  }
 ],
 "metadata": {
  "kernelspec": {
   "display_name": "Python [conda env:base] *",
   "language": "python",
   "name": "conda-base-py"
  },
  "language_info": {
   "codemirror_mode": {
    "name": "ipython",
    "version": 3
   },
   "file_extension": ".py",
   "mimetype": "text/x-python",
   "name": "python",
   "nbconvert_exporter": "python",
   "pygments_lexer": "ipython3",
   "version": "3.12.7"
  }
 },
 "nbformat": 4,
 "nbformat_minor": 5
}
